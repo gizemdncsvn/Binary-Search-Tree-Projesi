{
 "cells": [
  {
   "cell_type": "markdown",
   "id": "3fdafd09",
   "metadata": {},
   "source": [
    "## Binary Search Tree Projesi"
   ]
  },
  {
   "cell_type": "markdown",
   "id": "17940362",
   "metadata": {},
   "source": [
    "### Proje 3"
   ]
  },
  {
   "cell_type": "markdown",
   "id": "fa87a0fa",
   "metadata": {},
   "source": [
    "[7, 5, 1, 8, 3, 6, 0, 9, 4, 2] dizisinin Binary-Search-Tree aşamalarını yazınız.\n",
    "\n",
    "- Örnek: root x'dir. root'un sağından y bulunur. Solunda z bulunur vb."
   ]
  },
  {
   "cell_type": "markdown",
   "id": "6150b52d",
   "metadata": {},
   "source": [
    "- **1. Aşama**\n",
    "\n",
    "Root 5 ise root'un sağında 0, solunda 7 bulunur.\n",
    "\n",
    "- **2.Aşama**\n",
    "\n",
    "0'ün sağında 4 bulunur ve solu boştur.\n",
    "\n",
    "7'nin solunda 6 vardır, sağında 8 bulunur.\n",
    "\n",
    "- **3.Aşama**\n",
    "\n",
    "4'ün sağı boştur, solunda ise 3 vardır.\n",
    "\n",
    "8'in solu boştur, sağında ise 9 vardır.\n",
    "\n",
    "3'ün solunda 2 vardır ve sağı boştur."
     "\n",
    "Son olarak, 2'nin sağı boştur ve solunda 1 vardır.",
   ]
  }
 ],
 "metadata": {
  "kernelspec": {
   "display_name": "Python 3 (ipykernel)",
   "language": "python",
   "name": "python3"
  },
  "language_info": {
   "codemirror_mode": {
    "name": "ipython",
    "version": 3
   },
   "file_extension": ".py",
   "mimetype": "text/x-python",
   "name": "python",
   "nbconvert_exporter": "python",
   "pygments_lexer": "ipython3",
   "version": "3.11.2"
  }
 },
 "nbformat": 4,
 "nbformat_minor": 5
}
