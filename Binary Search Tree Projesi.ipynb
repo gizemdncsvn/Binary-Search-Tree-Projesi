{
 "cells": [
  {
   "cell_type": "markdown",
   "id": "3fdafd09",
   "metadata": {},
   "source": [
    "## Binary Search Tree Projesi"
   ]
  },
  {
   "cell_type": "markdown",
   "id": "17940362",
   "metadata": {},
   "source": [
    "### Proje 3"
   ]
  },
  {
   "cell_type": "markdown",
   "id": "fa87a0fa",
   "metadata": {},
   "source": [
    "[7, 5, 1, 8, 3, 6, 0, 9, 4, 2] dizisinin Binary-Search-Tree aşamalarını yazınız.\n",
    "\n",
    "- Örnek: root x'dir. root'un sağından y bulunur. Solunda z bulunur vb."
   ]
  },
  {
   "cell_type": "markdown",
   "id": "6150b52d",
   "metadata": {},
   "source": [
    "- **1. Aşama**\n",
    "\n",
    "Root 1 ise root'un sağında 3, solunda 0 bulunur.\n",
    "\n",
    "- **2.Aşama**\n",
    "\n",
    "3'ün sağında 5 bulunur ve solunda 2 vardır.\n",
    "\n",
    "0'ın solu boştur, sağında 7 bulunur.\n",
    "\n",
    "- **3.Aşama**\n",
    "\n",
    "5'in sağında 6, solunda ise 4 vardır.\n",
    "\n",
    "2'nin solu boştur, sağında ise 8 vardır.\n",
    "\n",
    "7'nin solu boştur, sağında ise 9 bulunur."
   ]
  }
 ],
 "metadata": {
  "kernelspec": {
   "display_name": "Python 3 (ipykernel)",
   "language": "python",
   "name": "python3"
  },
  "language_info": {
   "codemirror_mode": {
    "name": "ipython",
    "version": 3
   },
   "file_extension": ".py",
   "mimetype": "text/x-python",
   "name": "python",
   "nbconvert_exporter": "python",
   "pygments_lexer": "ipython3",
   "version": "3.11.2"
  }
 },
 "nbformat": 4,
 "nbformat_minor": 5
}
